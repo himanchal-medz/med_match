{
 "cells": [
  {
   "cell_type": "code",
   "execution_count": null,
   "metadata": {},
   "outputs": [],
   "source": [
    "import random\n",
    "import subprocess\n",
    "import matplotlib.pyplot as plt\n",
    "import numpy as np\n",
    "import os\n",
    "import pandas as pd\n",
    "import re\n",
    "import requests\n",
    "import time\n",
    "import numpy as np\n",
    "import os\n",
    "import pandas as pd\n",
    "import datetime\n",
    "import calendar\n",
    "import time\n",
    "import warnings\n",
    "import datetime as dt\n",
    "import time\n",
    "import gc\n",
    "from collections import OrderedDict\n",
    "import math\n",
    "from collections import Counter"
   ]
  },
  {
   "cell_type": "code",
   "execution_count": null,
   "metadata": {},
   "outputs": [],
   "source": [
    "historical_map = pd.read_csv('../historical_mapping/hist_map_latest.csv')\n",
    "historical_map = historical_map[['item_code','brand_x', 'brand_y', 'drug_master_id']]\n",
    "\n",
    "distributor_data = pd.read_csv('../Datasets/Apollo_unmapped_19Feb_10AM.csv')\n",
    "distributor_data"
   ]
  },
  {
   "cell_type": "code",
   "execution_count": null,
   "metadata": {},
   "outputs": [],
   "source": [
    "distributor_data = distributor_data[['item_code','brand']]\n",
    "historical_map['brand_x'] = historical_map['brand_x'].str.lower()\n",
    "distributor_data['brand'] = distributor_data['brand'].str.lower()\n",
    "distributor_data"
   ]
  },
  {
   "cell_type": "code",
   "execution_count": null,
   "metadata": {},
   "outputs": [],
   "source": [
    "final = pd.merge(distributor_data, historical_map, how='inner', left_on=['brand'],right_on=['brand_x'])\n",
    "final"
   ]
  },
  {
   "cell_type": "code",
   "execution_count": null,
   "metadata": {},
   "outputs": [],
   "source": [
    "historical_map_1 = pd.read_csv('../historical_mapping/hist_map_latest.csv')\n",
    "historical_map_1 = historical_map_1[['item_code','brand_x', 'brand_y', 'drug_master_id']]\n",
    "\n",
    "historical_map_2 = pd.read_csv('../historical_mapping/hist_map_2.csv')\n",
    "historical_map_2 = historical_map_2[['item_code','brand_x', 'brand_y', 'drug_master_id']]\n",
    "\n",
    "historical_map = pd.concat([historical_map_1, historical_map_2])\n",
    "\n",
    "print(historical_map_1.columns)\n",
    "print(historical_map_2.columns)\n",
    "print(historical_map.columns)\n",
    "\n",
    "print(historical_map_1.shape)\n",
    "print(historical_map_2.shape)\n",
    "print(historical_map.shape)"
   ]
  },
  {
   "cell_type": "code",
   "execution_count": 13,
   "metadata": {},
   "outputs": [],
   "source": [
    "# iterate through all file\n",
    "for file in os.listdir():\n",
    "    # Check whether file is in text format or not\n",
    "    if file.find(\"_;;_\")>0:\n",
    "        dist_name,secondpart=file.split(\"_;;_\")\n",
    "        renamedfile=dist_name+\"_data.csv\"\n",
    "        archivedname=dist_name+\"_data_\"+end_date+\".csv\"\n",
    "        os.rename(file,renamedfile)\n",
    "        os.rename(renamedfile,archivedname)"
   ]
  },
  {
   "cell_type": "code",
   "execution_count": 11,
   "metadata": {},
   "outputs": [
    {
     "name": "stdout",
     "output_type": "stream",
     "text": [
      "11_03_2023\n",
      "***********************************************Note: Started cron - 11/03/2023 02:22:14************************\n"
     ]
    }
   ],
   "source": [
    "# iterate through all file\n",
    "from datetime import datetime\n",
    "from datetime import date\n",
    "import os\n",
    "\n",
    "\n",
    "end_date=date.today().strftime('%d-%m-%Y').replace(\"-\", \"_\")\n",
    "print(end_date)\n",
    "print(\"***********************************************Note: Started cron - {}************************\".format(datetime.now().strftime(\"%d/%m/%Y %H:%M:%S\")))        "
   ]
  }
 ],
 "metadata": {
  "kernelspec": {
   "display_name": "Python 3",
   "language": "python",
   "name": "python3"
  },
  "language_info": {
   "codemirror_mode": {
    "name": "ipython",
    "version": 3
   },
   "file_extension": ".py",
   "mimetype": "text/x-python",
   "name": "python",
   "nbconvert_exporter": "python",
   "pygments_lexer": "ipython3",
   "version": "3.6.9"
  },
  "orig_nbformat": 4,
  "vscode": {
   "interpreter": {
    "hash": "ab9ffcb442b57937f77fd99ba6a68693c5ef792a3bedefe14b2015da08d0f675"
   }
  }
 },
 "nbformat": 4,
 "nbformat_minor": 2
}
