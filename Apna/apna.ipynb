{
 "cells": [
  {
   "cell_type": "code",
   "execution_count": 6,
   "metadata": {},
   "outputs": [],
   "source": [
    "def wrapper(dist_name):\n",
    "        \n",
    "    from datetime import datetime\n",
    "    import random\n",
    "    import subprocess\n",
    "    import matplotlib.pyplot as plt\n",
    "    import numpy as np\n",
    "    import os\n",
    "    import pandas as pd\n",
    "    import re\n",
    "    import requests\n",
    "    import time\n",
    "    import numpy as np\n",
    "    import os\n",
    "        \n",
    "    from datetime import datetime\n",
    "    import random\n",
    "    import subprocess\n",
    "    import matplotlib.pyplot as plt\n",
    "    import numpy as np\n",
    "    import os\n",
    "    import pandas as pd\n",
    "    import re\n",
    "    import requests\n",
    "    import time\n",
    "    import numpy as np\n",
    "    import os\n",
    "    import calendar\n",
    "    import time\n",
    "    import warnings\n",
    "    import datetime as dt\n",
    "    import time\n",
    "    import gc\n",
    "    from collections import OrderedDict\n",
    "    import math\n",
    "    from collections import Counter\n",
    "   \n",
    "    warnings.filterwarnings(\"ignore\")\n",
    "    \n",
    "    #####################################################################################################\n",
    "    ################ Directory where input file is stored and output files will be saved ################\n",
    "    #####################################################################################################\n",
    "    \n",
    "    #os.chdir('/Arun/_SelfLearn/Mapping/')\n",
    "    #os.chdir('/Arun/_SelfLearn/Mapping/')\n",
    "    print('dist_name:',dist_name)\n",
    "    inputdata=dist_name+\"_data.csv\"\n",
    "    outfile1=dist_name+\"_\"+\"Combined_results.csv\"\n",
    "    outfile2=dist_name+\"_\"+\"exact_mapped.csv\"\n",
    "    outfile3=dist_name+\"_\"+\"partial_mapped.csv\"\n",
    "    \n",
    "    #####################################################################################################\n",
    "    #df_master = pd.read_csv('drug_master2.csv') \n",
    "    df_master = pd.read_csv('master_sku.csv', encoding='ISO-8859-1') # Updated Master Data with sku for all\n",
    "    #df_distributor = pd.read_csv('distributor_data.csv') # New Distributor data to be mapped\n",
    "    df_distributor = pd.read_csv('apna_new_articals15-02-23.csv', encoding='ISO-8859-1') # New Distributor data to be mapped\n",
    "    #df_distributor = df_distributor[['item_code', 'brand', 'pack', 'manufacturer', 'catg', 'subcatg', 'mrp']]\n",
    "    \n",
    "    # Required Schema of Distributor Data - ['item_code', 'brand', 'pack', 'manufacturer', 'catg', 'subcatg', 'mrp']\n",
    "    # Appending columns if not already present, order should be maintained by distributor\n",
    "    i = 1\n",
    "    while(len(df_distributor.columns)<7):\n",
    "        new_col_name = \"new_col\" + str(i)\n",
    "        i = i+1\n",
    "        df_distributor[new_col_name] = \"\"\n",
    "    \n",
    "    df_distributor.columns = ['item_code', 'brand', 'pack', 'manufacturer', 'catg', 'subcatg', 'mrp']\n",
    "    df_distributor['Master Catalogue name'] = \"\"\n",
    "    print(df_master)"
   ]
  },
  {
   "cell_type": "code",
   "execution_count": 7,
   "metadata": {},
   "outputs": [
    {
     "name": "stdout",
     "output_type": "stream",
     "text": [
      "dist_name: Apna\n",
      "            id                                              brand  \\\n",
      "0       100002                              1 2 3 100mg tablet 4s   \n",
      "1       100003                               1 2 3 25mg tablet 5s   \n",
      "2       100004                               1 2 3 50mg tablet 4s   \n",
      "3       100005                       1 al ax 5mg/75mg capsule 10s   \n",
      "4       100006                       1 al max 5mg/10mg tablet 10s   \n",
      "...        ...                                                ...   \n",
      "263522  376641                     zyrol d3 800iu oral drops 15ml   \n",
      "263523  376642  zyrol d3 nano shots (each 5ml) orange sugar fr...   \n",
      "263524  376643                     zyvana m 2 forte tablet pr 15s   \n",
      "263525  376644               zyvana mv 2mg/500mg/0.2mg tablet 10s   \n",
      "263526  376645                                  zyzer syrup 200ml   \n",
      "\n",
      "       medicine_type                  sku_brand  \n",
      "0             tablet                      1 2 3  \n",
      "1             tablet                      1 2 3  \n",
      "2             tablet                      1 2 3  \n",
      "3            capsule                    1 AL AX  \n",
      "4             tablet                   1 AL Max  \n",
      "...              ...                        ...  \n",
      "263522        others                   zyrol d3  \n",
      "263523        others  zyrol d3 nano shots (each  \n",
      "263524        tablet           zyvana m 2 forte  \n",
      "263525        tablet                  zyvana mv  \n",
      "263526         syrup                      zyzer  \n",
      "\n",
      "[263527 rows x 4 columns]\n"
     ]
    }
   ],
   "source": [
    "wrapper('Apna')"
   ]
  }
 ],
 "metadata": {
  "kernelspec": {
   "display_name": "Python 3",
   "language": "python",
   "name": "python3"
  },
  "language_info": {
   "codemirror_mode": {
    "name": "ipython",
    "version": 3
   },
   "file_extension": ".py",
   "mimetype": "text/x-python",
   "name": "python",
   "nbconvert_exporter": "python",
   "pygments_lexer": "ipython3",
   "version": "3.6.9"
  },
  "orig_nbformat": 4,
  "vscode": {
   "interpreter": {
    "hash": "ab9ffcb442b57937f77fd99ba6a68693c5ef792a3bedefe14b2015da08d0f675"
   }
  }
 },
 "nbformat": 4,
 "nbformat_minor": 2
}
