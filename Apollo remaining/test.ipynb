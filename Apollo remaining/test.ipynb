{
 "cells": [
  {
   "cell_type": "code",
   "execution_count": 11,
   "metadata": {},
   "outputs": [],
   "source": [
    "def wrapper(dist_name):\n",
    "        \n",
    "    from datetime import datetime\n",
    "    import random\n",
    "    import subprocess\n",
    "    import matplotlib.pyplot as plt\n",
    "    import numpy as np\n",
    "    import os\n",
    "    import pandas as pd\n",
    "    import re\n",
    "    import requests\n",
    "    import time\n",
    "    import numpy as np\n",
    "    import os\n",
    "        \n",
    "    from datetime import datetime\n",
    "    import random\n",
    "    import subprocess\n",
    "    import matplotlib.pyplot as plt\n",
    "    import numpy as np\n",
    "    import os\n",
    "    import pandas as pd\n",
    "    import re\n",
    "    import requests\n",
    "    import time\n",
    "    import numpy as np\n",
    "    import os\n",
    "    import calendar\n",
    "    import time\n",
    "    import warnings\n",
    "    import datetime as dt\n",
    "    import time\n",
    "    import gc\n",
    "    from collections import OrderedDict\n",
    "    import math\n",
    "    from collections import Counter\n",
    "   \n",
    "    warnings.filterwarnings(\"ignore\")\n",
    "    \n",
    "    #####################################################################################################\n",
    "    ################ Directory where input file is stored and output files will be saved ################\n",
    "    #####################################################################################################\n",
    "    \n",
    "    #os.chdir('/Arun/_SelfLearn/Mapping/')\n",
    "    #os.chdir('/Arun/_SelfLearn/Mapping/')\n",
    "    print('dist_name:',dist_name)\n",
    "    inputdata=dist_name+\"_data.csv\"\n",
    "    outfile1=dist_name+\"_\"+\"Combined_results.csv\"\n",
    "    outfile2=dist_name+\"_\"+\"exact_mapped.csv\"\n",
    "    outfile3=dist_name+\"_\"+\"partial_mapped.csv\"\n",
    "    \n",
    "    #####################################################################################################\n",
    "    #df_master = pd.read_csv('drug_master2.csv') \n",
    "    df_master = pd.read_csv('latest_master.csv', encoding='ISO-8859-1') # Updated Master Data with sku for all\n",
    "    #df_distributor = pd.read_csv('distributor_data.csv') # New Distributor data to be mapped\n",
    "    df_distributor = pd.read_csv('Apollo_unmapped_19Feb_10AM.csv', encoding='ISO-8859-1') # New Distributor data to be mapped\n",
    "    #df_distributor = df_distributor[['item_code', 'brand', 'pack', 'manufacturer', 'catg', 'subcatg', 'mrp']]\n",
    "    \n",
    "    # Required Schema of Distributor Data - ['item_code', 'brand', 'pack', 'manufacturer', 'catg', 'subcatg', 'mrp']\n",
    "    # Appending columns if not already present, order should be maintained by distributor\n",
    "    i = 1\n",
    "    print(df_distributor)"
   ]
  },
  {
   "cell_type": "code",
   "execution_count": 12,
   "metadata": {},
   "outputs": [
    {
     "name": "stdout",
     "output_type": "stream",
     "text": [
      "dist_name: Apollo\n",
      "       item_code                                             brand packaging  \\\n",
      "0        0GA0001                                    0-GAS CAP 10'S        10   \n",
      "1        1030001                            10366 SENSURA 2PC 60MM         1   \n",
      "2        1130001                       1139.51 TRILYSE CATH CARVED         1   \n",
      "3        1230002                     1233.062 MULTICATH 6CM TRILUM         1   \n",
      "4        12D0001                      1/2 DNS 500ML INJ (EUROLIFE)         1   \n",
      "...          ...                                               ...       ...   \n",
      "170811   kes0069       PATANJALI KESH KANTI NATURAL SHAMPOO  200ML         1   \n",
      "170812   nat0458  NATURE'S BEST ISOPURE ZERO CARBBANANA CREAM 3 LB         1   \n",
      "170813   pat0115           PATANJALI ROSE BODY CLEANSER SOAP 125GM         1   \n",
      "170814   pat0121                PATANJALI AAROGYA BISCUITS (PK100)         1   \n",
      "170815   pat0126   PATANJALI DANT KANTI DENTAL CREAM REGULAR  200G         1   \n",
      "\n",
      "                            company  catg subcatg     mrp  \n",
      "0                HOLY LIFE SCIENCES   NaN     NaN    15.0  \n",
      "1                COLOPLAST HONGKONG   NaN     NaN   250.0  \n",
      "2                             VYGON   NaN     NaN  6341.0  \n",
      "3                             VYGON   NaN     NaN  8113.0  \n",
      "4       EUROLIFE HEALTHCARE PVT LTD   NaN     NaN   121.7  \n",
      "...                             ...   ...     ...     ...  \n",
      "170811  PATHANJALI AYURVEDA LIMITED   NaN     NaN    75.0  \n",
      "170812         NATURES BEST ISOPURE   NaN     NaN  6999.0  \n",
      "170813  PATHANJALI AYURVEDA LIMITED   NaN     NaN    45.0  \n",
      "170814  PATHANJALI AYURVEDA LIMITED   NaN     NaN    10.0  \n",
      "170815  PATHANJALI AYURVEDA LIMITED   NaN     NaN    75.0  \n",
      "\n",
      "[170816 rows x 7 columns]\n"
     ]
    }
   ],
   "source": [
    "wrapper('Apollo')"
   ]
  }
 ],
 "metadata": {
  "kernelspec": {
   "display_name": "Python 3",
   "language": "python",
   "name": "python3"
  },
  "language_info": {
   "codemirror_mode": {
    "name": "ipython",
    "version": 3
   },
   "file_extension": ".py",
   "mimetype": "text/x-python",
   "name": "python",
   "nbconvert_exporter": "python",
   "pygments_lexer": "ipython3",
   "version": "3.6.9"
  },
  "orig_nbformat": 4,
  "vscode": {
   "interpreter": {
    "hash": "ab9ffcb442b57937f77fd99ba6a68693c5ef792a3bedefe14b2015da08d0f675"
   }
  }
 },
 "nbformat": 4,
 "nbformat_minor": 2
}
