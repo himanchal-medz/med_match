{
 "cells": [
  {
   "cell_type": "code",
   "execution_count": 1,
   "metadata": {},
   "outputs": [],
   "source": [
    "def wrapper(dist_name):\n",
    "        \n",
    "    from datetime import datetime\n",
    "    import random\n",
    "    import subprocess\n",
    "    import matplotlib.pyplot as plt\n",
    "    import numpy as np\n",
    "    import os\n",
    "    import pandas as pd\n",
    "    import re\n",
    "    import requests\n",
    "    import time\n",
    "    import numpy as np\n",
    "    import os\n",
    "        \n",
    "    from datetime import datetime\n",
    "    import random\n",
    "    import subprocess\n",
    "    import matplotlib.pyplot as plt\n",
    "    import numpy as np\n",
    "    import os\n",
    "    import pandas as pd\n",
    "    import re\n",
    "    import requests\n",
    "    import time\n",
    "    import numpy as np\n",
    "    import os\n",
    "    import calendar\n",
    "    import time\n",
    "    import warnings\n",
    "    import datetime as dt\n",
    "    import time\n",
    "    import gc\n",
    "    from collections import OrderedDict\n",
    "    import math\n",
    "    from collections import Counter\n",
    "   \n",
    "    warnings.filterwarnings(\"ignore\")\n",
    "    \n",
    "    #####################################################################################################\n",
    "    ################ Directory where input file is stored and output files will be saved ################\n",
    "    #####################################################################################################\n",
    "    \n",
    "    #os.chdir('/Arun/_SelfLearn/Mapping/')\n",
    "    #os.chdir('/Arun/_SelfLearn/Mapping/')\n",
    "    print('dist_name:',dist_name)\n",
    "    inputdata=dist_name+\"_data.csv\"\n",
    "    outfile1=dist_name+\"_\"+\"Combined_results.csv\"\n",
    "    outfile2=dist_name+\"_\"+\"exact_mapped.csv\"\n",
    "    outfile3=dist_name+\"_\"+\"partial_mapped.csv\"\n",
    "    \n",
    "    #####################################################################################################\n",
    "    #df_master = pd.read_csv('drug_master2.csv') \n",
    "    df_master = pd.read_csv('latest_master.csv', encoding='ISO-8859-1') # Updated Master Data with sku for all\n",
    "    #df_distributor = pd.read_csv('distributor_data.csv') # New Distributor data to be mapped\n",
    "    df_distributor = pd.read_csv('reliance_Mapping_sheet.csv', encoding='ISO-8859-1') # New Distributor data to be mapped\n",
    "    #df_distributor = df_distributor[['item_code', 'brand', 'pack', 'manufacturer', 'catg', 'subcatg', 'mrp']]\n",
    "    \n",
    "    # Required Schema of Distributor Data - ['item_code', 'brand', 'pack', 'manufacturer', 'catg', 'subcatg', 'mrp']\n",
    "    # Appending columns if not already present, order should be maintained by distributor\n",
    "    i = 1\n",
    "    while(len(df_distributor.columns)<7):\n",
    "        new_col_name = \"new_col\" + str(i)\n",
    "        i = i+1\n",
    "        df_distributor[new_col_name] = \"\"\n",
    "    \n",
    "    df_distributor.columns = ['item_code', 'brand', 'pack', 'manufacturer', 'catg', 'subcatg', 'mrp']\n",
    "    df_distributor['Master Catalogue name'] = \"\"\n",
    "    print(df_master)"
   ]
  },
  {
   "cell_type": "code",
   "execution_count": 2,
   "metadata": {},
   "outputs": [
    {
     "name": "stdout",
     "output_type": "stream",
     "text": [
      "dist_name: Reliance\n",
      "            id                         brand medicine_type  sku_brand\n",
      "0       100002         1 2 3 100MG TABLET 4S            RX      1 2 3\n",
      "1       100003          1 2 3 25MG TABLET 5S            RX      1 2 3\n",
      "2       100004          1 2 3 50MG TABLET 4S            RX      1 2 3\n",
      "3       100005  1 AL AX 5MG/75MG CAPSULE 10S            RX    1 AL AX\n",
      "4       100006  1 AL MAX 5MG/10MG TABLET 10S            RX   1 AL Max\n",
      "...        ...                           ...           ...        ...\n",
      "272945  386097       WAXIKLIN EAR DROPS 15ML           NaN   WAXIKLIN\n",
      "272946  386098          ZENVESTIN TABLET 10S           NaN  ZENVESTIN\n",
      "272947  386099          ZOLOTIC O TABLET 10S           NaN    ZOLOTIC\n",
      "272948  386100         ZORAN 500MG TABLET 3S           NaN      ZORAN\n",
      "272949  386101           ZINCO DT TABLET 10S           NaN      ZINCO\n",
      "\n",
      "[272950 rows x 4 columns]\n"
     ]
    }
   ],
   "source": [
    "wrapper('Reliance')"
   ]
  }
 ],
 "metadata": {
  "kernelspec": {
   "display_name": "Python 3",
   "language": "python",
   "name": "python3"
  },
  "language_info": {
   "codemirror_mode": {
    "name": "ipython",
    "version": 3
   },
   "file_extension": ".py",
   "mimetype": "text/x-python",
   "name": "python",
   "nbconvert_exporter": "python",
   "pygments_lexer": "ipython3",
   "version": "3.6.9"
  },
  "orig_nbformat": 4,
  "vscode": {
   "interpreter": {
    "hash": "ab9ffcb442b57937f77fd99ba6a68693c5ef792a3bedefe14b2015da08d0f675"
   }
  }
 },
 "nbformat": 4,
 "nbformat_minor": 2
}
